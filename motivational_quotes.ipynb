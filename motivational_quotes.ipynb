{
 "cells": [
  {
   "cell_type": "code",
   "execution_count": 36,
   "metadata": {},
   "outputs": [],
   "source": [
    "import requests\n",
    "import json\n",
    "import sqlite3\n",
    "from pymorphy2 import MorphAnalyzer\n",
    "import nltk\n",
    "from nltk.tokenize import word_tokenize\n",
    "from datetime import datetime\n",
    "from nltk.corpus import stopwords\n",
    "import markovify"
   ]
  },
  {
   "cell_type": "markdown",
   "metadata": {},
   "source": [
    "Берем три группы с мотивирующими цитатами"
   ]
  },
  {
   "cell_type": "code",
   "execution_count": 74,
   "metadata": {},
   "outputs": [],
   "source": [
    "token = '2030e8202030e8202030e820cf2041e16f220302030e8207ea4b43071db099fb761cad2'\n",
    "group1 = 'biz_motiv'\n",
    "group2 = 'gdnevnuk'\n",
    "group3 = 'quotes'"
   ]
  },
  {
   "cell_type": "markdown",
   "metadata": {},
   "source": [
    "Выкачиваем посты со стены первой..."
   ]
  },
  {
   "cell_type": "code",
   "execution_count": 77,
   "metadata": {},
   "outputs": [],
   "source": [
    "offsets = [0, 100, 200, 300, 400, 500]\n",
    "wall1 = []\n",
    "for off in offsets:\n",
    "    wall = requests.get(\n",
    "            'https://api.vk.com/method/wall.get', \n",
    "            params={\n",
    "                \"domain\": group2,\n",
    "                \"v\":\"5.92\",\n",
    "                'offset': off,\n",
    "                \"access_token\": token,\n",
    "                \"count\": 100\n",
    "            }\n",
    "        ).json()\n",
    "    wall1.extend(wall['response']['items'])"
   ]
  },
  {
   "cell_type": "markdown",
   "metadata": {},
   "source": [
    "...второй..."
   ]
  },
  {
   "cell_type": "code",
   "execution_count": 78,
   "metadata": {},
   "outputs": [],
   "source": [
    "offsets = [0, 100, 200, 300, 400, 500]\n",
    "wall2 = []\n",
    "for off in offsets:\n",
    "    wall = requests.get(\n",
    "            'https://api.vk.com/method/wall.get', \n",
    "            params={\n",
    "                \"domain\": group2,\n",
    "                \"v\":\"5.92\",\n",
    "                'offset': off,\n",
    "                \"access_token\": token,\n",
    "                \"count\": 100\n",
    "            }\n",
    "        ).json()\n",
    "    wall2.extend(wall['response']['items'])"
   ]
  },
  {
   "cell_type": "markdown",
   "metadata": {},
   "source": [
    "...и третьей группы"
   ]
  },
  {
   "cell_type": "code",
   "execution_count": 75,
   "metadata": {},
   "outputs": [],
   "source": [
    "offsets = [0, 100, 200, 300, 400, 500]\n",
    "wall3 = []\n",
    "for off in offsets:\n",
    "    wall = requests.get(\n",
    "            'https://api.vk.com/method/wall.get', \n",
    "            params={\n",
    "                \"domain\": group3,\n",
    "                \"v\":\"5.92\",\n",
    "                'offset': off,\n",
    "                \"access_token\": token,\n",
    "                \"count\": 100\n",
    "            }\n",
    "        ).json()\n",
    "    wall2.extend(wall['response']['items'])"
   ]
  },
  {
   "cell_type": "markdown",
   "metadata": {},
   "source": [
    "Финальный набор постов"
   ]
  },
  {
   "cell_type": "code",
   "execution_count": 79,
   "metadata": {},
   "outputs": [],
   "source": [
    "all_posts = wall1 + wall2 + wall3"
   ]
  },
  {
   "cell_type": "code",
   "execution_count": 80,
   "metadata": {},
   "outputs": [
    {
     "data": {
      "text/plain": [
       "1200"
      ]
     },
     "execution_count": 80,
     "metadata": {},
     "output_type": "execute_result"
    }
   ],
   "source": [
    "len(all_posts)"
   ]
  },
  {
   "cell_type": "markdown",
   "metadata": {},
   "source": [
    "Сохраняем только тексты"
   ]
  },
  {
   "cell_type": "code",
   "execution_count": 103,
   "metadata": {},
   "outputs": [],
   "source": [
    "text = ''\n",
    "for p in all_posts:\n",
    "    t = ' '.join(p['text'].split('\\n'))\n",
    "    if \"http://vk.cc\" not in t:  #  самая простая очистка от спама\n",
    "        text += t + ' '"
   ]
  },
  {
   "cell_type": "markdown",
   "metadata": {},
   "source": [
    "Сохраняем в текстовый файл"
   ]
  },
  {
   "cell_type": "code",
   "execution_count": 106,
   "metadata": {},
   "outputs": [],
   "source": [
    "with open('motivation_text.txt', 'w', encoding='utf-8') as f:\n",
    "    f.write(text)"
   ]
  }
 ],
 "metadata": {
  "kernelspec": {
   "display_name": "Python 3",
   "language": "python",
   "name": "python3"
  },
  "language_info": {
   "codemirror_mode": {
    "name": "ipython",
    "version": 3
   },
   "file_extension": ".py",
   "mimetype": "text/x-python",
   "name": "python",
   "nbconvert_exporter": "python",
   "pygments_lexer": "ipython3",
   "version": "3.7.3"
  }
 },
 "nbformat": 4,
 "nbformat_minor": 2
}
